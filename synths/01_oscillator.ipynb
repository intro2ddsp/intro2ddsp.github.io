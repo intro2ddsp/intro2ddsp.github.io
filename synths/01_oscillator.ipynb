{
 "cells": [
  {
   "cell_type": "markdown",
   "metadata": {},
   "source": [
    "# Writing an Oscillator in PyTorch"
   ]
  },
  {
   "cell_type": "code",
   "execution_count": null,
   "metadata": {},
   "outputs": [],
   "source": [
    "import torch\n",
    "import IPython.display as ipd\n",
    "import matplotlib.pyplot as plt"
   ]
  },
  {
   "cell_type": "markdown",
   "metadata": {},
   "source": [
    "We create a new sinusoidal oscillator that is a PyTorch module by inheriting from the\n",
    "`torch.nn.Module` base class. Our sinusoidal oscillator receives a sequence of amplitude\n",
    "and angular frequency values, and optionally an initial phase.\n",
    "\n",
    "The equation for this oscillator is as follows:\n",
    "\n",
    "$$\n",
    "y[n] = a[n] * sin(\\phi[n])\n",
    "$$\n",
    "\n",
    "where $a[n]$ and $\\phi[n]$ is amplitude and phase at the $n^\\text{th}$ sample. However,\n",
    "we receive a time-varying frequency as input to our function, so we need to convert that\n",
    "to time-varying frequency. Recall the relationship between frequency and phase:\n",
    "\n",
    "$$\n",
    "\\omega = \\frac{d\\phi}{dt}\n",
    "$$\n",
    "\n",
    "Frequency is the derivative of phase. Therefore, phase can be calculated by integrating\n",
    "frequency (summing in the discrete-time case).\n",
    "\n",
    "$$\n",
    "\\phi[n] = \\phi_0 + \\sum_{k=0}^{n}\\omega[k]\n",
    "$$\n",
    "\n",
    "where $\\omega[n]$ is angular frequency at the $n^\\text{th}$ sample and $\\phi[n]$ is computed\n",
    "as the sum of all previous frequency values plus an initial phase, $\\phi_0$."
   ]
  },
  {
   "cell_type": "code",
   "execution_count": null,
   "metadata": {},
   "outputs": [],
   "source": [
    "class Sinusoid(torch.nn.Module):\n",
    "    \n",
    "    def forward(\n",
    "            self,\n",
    "            amp: torch.Tensor,                  # Amplitude (batch_size, n_steps)\n",
    "            omega: torch.Tensor,                # Angular frequency (batch_size, n_steps)\n",
    "            initial_phase: torch.Tensor = 0.0   # Initial phase (batch_size, 1)\n",
    "        ) -> torch.Tensor:\n",
    "        phase = torch.cumsum(omega, dim=1) + initial_phase\n",
    "        return amp * torch.sin(phase)"
   ]
  },
  {
   "cell_type": "code",
   "execution_count": null,
   "metadata": {},
   "outputs": [],
   "source": [
    "sr = 16000\n",
    "freq = torch.ones(1, sr) * 440\n",
    "freq = freq * 2 * torch.pi / sr\n",
    "\n",
    "amp = torch.linspace(1, 0, sr)\n",
    "\n",
    "osc = Sinusoid()\n",
    "y = osc(amp, freq)"
   ]
  },
  {
   "cell_type": "code",
   "execution_count": null,
   "metadata": {},
   "outputs": [],
   "source": [
    "ipd.Audio(y[0].numpy(), rate=sr)"
   ]
  },
  {
   "cell_type": "code",
   "execution_count": null,
   "metadata": {},
   "outputs": [],
   "source": [
    "learn_amp = torch.nn.Parameter(torch.rand_like(amp))\n",
    "y_hat = osc(learn_amp, freq)"
   ]
  },
  {
   "cell_type": "code",
   "execution_count": null,
   "metadata": {},
   "outputs": [],
   "source": [
    "ipd.Audio(y_hat[0].detach().numpy(), rate=sr)"
   ]
  },
  {
   "cell_type": "code",
   "execution_count": null,
   "metadata": {},
   "outputs": [],
   "source": [
    "optimizer = torch.optim.Adam([learn_amp], lr=0.001)"
   ]
  },
  {
   "cell_type": "code",
   "execution_count": null,
   "metadata": {},
   "outputs": [],
   "source": [
    "log_loss = []\n",
    "for i in range(1000):\n",
    "    \n",
    "    y_hat = osc(learn_amp, freq)\n",
    "    loss = torch.mean(torch.abs(y_hat - y))\n",
    "    log_loss.append(loss.item())\n",
    "\n",
    "    optimizer.zero_grad()\n",
    "    loss.backward()\n",
    "    optimizer.step()"
   ]
  },
  {
   "cell_type": "code",
   "execution_count": null,
   "metadata": {},
   "outputs": [],
   "source": [
    "ipd.Audio(y_hat[0].detach().numpy(), rate=sr)"
   ]
  },
  {
   "cell_type": "code",
   "execution_count": null,
   "metadata": {},
   "outputs": [],
   "source": [
    "plt.plot(log_loss)"
   ]
  },
  {
   "cell_type": "code",
   "execution_count": null,
   "metadata": {},
   "outputs": [],
   "source": []
  }
 ],
 "metadata": {
  "kernelspec": {
   "display_name": "ismir",
   "language": "python",
   "name": "python3"
  },
  "language_info": {
   "codemirror_mode": {
    "name": "ipython",
    "version": 3
   },
   "file_extension": ".py",
   "mimetype": "text/x-python",
   "name": "python",
   "nbconvert_exporter": "python",
   "pygments_lexer": "ipython3",
   "version": "3.10.13"
  }
 },
 "nbformat": 4,
 "nbformat_minor": 2
}
