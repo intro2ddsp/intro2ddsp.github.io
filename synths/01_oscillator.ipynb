{
 "cells": [
  {
   "cell_type": "markdown",
   "metadata": {},
   "source": [
    "# Writing an Oscillator in PyTorch"
   ]
  },
  {
   "cell_type": "code",
   "execution_count": null,
   "metadata": {},
   "outputs": [],
   "source": [
    "import torch\n",
    "import IPython.display as ipd\n",
    "import matplotlib.pyplot as plt"
   ]
  },
  {
   "cell_type": "markdown",
   "metadata": {},
   "source": [
    "Our sinusoidal oscillator receives a sequence of amplitude\n",
    "and angular frequency values, and optionally an initial phase.\n",
    "\n",
    "The equation for this oscillator is as follows:\n",
    "\n",
    "$$\n",
    "y[n] = a[n] * sin(\\phi[n])\n",
    "$$\n",
    "\n",
    "where $a[n]$ and $\\phi[n]$ is amplitude and phase at the $n^\\text{th}$ sample. However,\n",
    "we receive a time-varying frequency as input to our function, so we need to convert that\n",
    "to time-varying frequency. Recall the relationship between frequency and phase:\n",
    "\n",
    "$$\n",
    "\\omega = \\frac{d\\phi}{dt}\n",
    "$$\n",
    "\n",
    "Frequency is the derivative of phase. Therefore, phase can be calculated by integrating\n",
    "frequency (summing in the discrete-time case).\n",
    "\n",
    "$$\n",
    "\\phi[n] = \\phi_0 + \\sum_{k=0}^{n}\\omega[k]\n",
    "$$\n",
    "\n",
    "where $\\omega[n]$ is angular frequency at the $n^\\text{th}$ sample and $\\phi[n]$ is computed\n",
    "as the sum of all previous frequency values plus an initial phase, $\\phi_0$."
   ]
  },
  {
   "cell_type": "markdown",
   "metadata": {},
   "source": [
    "## Creating a Sinusoidal Oscillator\n",
    "\n",
    "Let's express the above oscillator function within a python function using the PyTorch\n",
    "API."
   ]
  },
  {
   "cell_type": "code",
   "execution_count": null,
   "metadata": {},
   "outputs": [],
   "source": [
    "def sinusoid(\n",
    "    amp: torch.Tensor,  # Amplitude (batch_size, n_steps)\n",
    "    omega: torch.Tensor,  # Angular frequency (batch_size, n_steps)\n",
    "    phi: torch.Tensor = None,  # Initial phase (batch_size,), if None then 0\n",
    ") -> torch.Tensor:\n",
    "    \"\"\"\n",
    "    Implementational of a sinusoidal oscillator function. Receives time-varying\n",
    "    amplitude and angular frequency as input and synthesizes a sinusoidal signal.\n",
    "    An optional initial phase can also be specified.\n",
    "    \"\"\"\n",
    "    # If phi is not specified, set it to 0\n",
    "    if phi is None:\n",
    "        phi = torch.zeros(amp.shape[0])\n",
    "\n",
    "    # Unsqueeze the last dimension of phi to give it a time step dimension equal to 1\n",
    "    # Then add the initial phase to the beginning of the angular frequency tensor\n",
    "    # This sets the initial phase of the oscillator\n",
    "    # We then discard the last element of the angular frequency tensor to maintain\n",
    "    # the correct number of time steps\n",
    "    phi = phi.unsqueeze(-1)\n",
    "    omega = torch.cat([phi, omega], dim=1)[..., :-1]\n",
    "\n",
    "    # torch.cumsum performs the cumulative summation of the angular frequency\n",
    "    phase = torch.cumsum(omega, dim=1)\n",
    "    return amp * torch.sin(phase)"
   ]
  },
  {
   "cell_type": "markdown",
   "metadata": {},
   "source": [
    "### Using our oscillator\n",
    "\n",
    "To use our new sinusoidal oscillator we need to create the control arguments for the\n",
    "function, which are `Tensor`s of time-varying angular frequency and amplitude values.\n",
    "\n",
    "Let's first make a static tone at 440Hz at an audio sampling rate of 16kHz."
   ]
  },
  {
   "cell_type": "code",
   "execution_count": null,
   "metadata": {},
   "outputs": [],
   "source": [
    "sr = 16000  # Audio sampling rate\n",
    "frequency = 440.0  # Frequency of the sinusoid in Hz"
   ]
  },
  {
   "cell_type": "markdown",
   "metadata": {},
   "source": [
    "Make one second (16k samples) of angular frequency control signal. First create a\n",
    "static signal at 440.0Hz, and then convert that to angular frequency, which has a range of $[0, 2\\pi]$, where $2\\pi$ is\n",
    "the sampling rate."
   ]
  },
  {
   "cell_type": "code",
   "execution_count": null,
   "metadata": {},
   "outputs": [],
   "source": [
    "f = torch.ones(1, sr) * frequency\n",
    "omega = f * 2 * torch.pi / sr"
   ]
  },
  {
   "cell_type": "markdown",
   "metadata": {},
   "source": [
    "Similarly, make a static amplitude signal with an amplitude of 0.5"
   ]
  },
  {
   "cell_type": "code",
   "execution_count": null,
   "metadata": {},
   "outputs": [],
   "source": [
    "amp = torch.ones(1, sr) * 0.5"
   ]
  },
  {
   "cell_type": "markdown",
   "metadata": {},
   "source": [
    "Synthesize it!"
   ]
  },
  {
   "cell_type": "code",
   "execution_count": null,
   "metadata": {},
   "outputs": [],
   "source": [
    "y = sinusoid(amp, omega)\n",
    "ipd.Audio(y[0].numpy(), rate=sr, normalize=False)"
   ]
  },
  {
   "cell_type": "markdown",
   "metadata": {},
   "source": [
    "### Varying the frequency and amplitude\n",
    "\n",
    "Because our amplitude and frequency tensors represent time-varying values, we can synthesize\n",
    "a sound with modulating amplitude and frequency. For example, let's have the frequency\n",
    "decrease by an octave from 440Hz to 220Hz over one second while the amplitude increases\n",
    "from zero."
   ]
  },
  {
   "cell_type": "code",
   "execution_count": null,
   "metadata": {},
   "outputs": [],
   "source": [
    "# Frequency envelope\n",
    "f = torch.linspace(440, 220, sr).unsqueeze(0)\n",
    "omega = f * 2 * torch.pi / sr\n",
    "\n",
    "# Amplitude envelope\n",
    "amp = torch.linspace(0, 1, sr).unsqueeze(0)\n",
    "\n",
    "# Plot the amplitude and angular frequency envelopes\n",
    "fig, ax1 = plt.subplots()\n",
    "\n",
    "ax1.plot(amp[0].numpy(), color=\"tab:blue\", label=\"Amplitude\")\n",
    "ax1.set_ylabel(\"Amplitude\")\n",
    "ax1.set_xlabel(\"Time (samples)\")\n",
    "\n",
    "ax2 = ax1.twinx()\n",
    "ax2.plot(omega[0].numpy(), color=\"tab:red\", label=\"Frequency\")\n",
    "ax2.set_ylabel(\"Angular Frequency (rads / sample)\")\n",
    "ax2.set_ylim(0, 0.5)\n",
    "\n",
    "fig.legend()\n",
    "plt.show()"
   ]
  },
  {
   "cell_type": "code",
   "execution_count": null,
   "metadata": {},
   "outputs": [],
   "source": [
    "y = sinusoid(amp, omega)\n",
    "ipd.Audio(y[0].numpy(), rate=sr, normalize=False)"
   ]
  },
  {
   "cell_type": "markdown",
   "metadata": {},
   "source": [
    "## Optimizing parameters for our oscillator"
   ]
  },
  {
   "cell_type": "code",
   "execution_count": null,
   "metadata": {},
   "outputs": [],
   "source": [
    "# Create a random amplitude envelope with 8 random points and interpolate it to the\n",
    "# audio sampling rate\n",
    "rand_amp = torch.rand(1, 1, 8)\n",
    "rand_amp = torch.nn.functional.interpolate(rand_amp, size=(sr), mode=\"linear\").squeeze(\n",
    "    0\n",
    ")\n",
    "\n",
    "# Turn the random amplitude envelope into a learnable parameter\n",
    "amp_param = torch.nn.Parameter(rand_amp)\n",
    "\n",
    "y_hat = sinusoid(amp_param, omega)\n",
    "\n",
    "# Now that the tensor is a learnable parameter, it is marked as requiring a gradient.\n",
    "# We need to detach it from the computation graph before plotting and rendering audio.\n",
    "plt.plot(y[0].numpy(), label=\"Ground Truth\")\n",
    "plt.plot(y_hat[0].detach().numpy(), alpha=0.75, label=\"Random Init Amp\")\n",
    "plt.legend()\n",
    "\n",
    "ipd.Audio(y_hat[0].detach().numpy(), rate=sr, normalize=False)"
   ]
  },
  {
   "cell_type": "markdown",
   "metadata": {},
   "source": [
    "Now that we have a learnable amplitude envelope and our oscillator is written in\n",
    "PyTorch, which means that it is differentiable via PyTorch's autodiff engine, we can\n",
    "run gradient descent optimization to learn to match the parameters from our ground truth.\n",
    "\n",
    "First, we will create an optimizer."
   ]
  },
  {
   "cell_type": "code",
   "execution_count": null,
   "metadata": {},
   "outputs": [],
   "source": [
    "optimizer = torch.optim.Adam([amp_param], lr=0.001)"
   ]
  },
  {
   "cell_type": "code",
   "execution_count": null,
   "metadata": {},
   "outputs": [],
   "source": [
    "loss_log = []\n",
    "for i in range(1000):\n",
    "    # 1. Compute a forward pass using our learned parameter\n",
    "    y_hat = sinusoid(amp_param, omega)\n",
    "\n",
    "    # 2. Compute the MAE loss directly on the time domain signal\n",
    "    loss = torch.mean(torch.abs(y_hat - y))\n",
    "\n",
    "    # Store the current loss value for plotting later\n",
    "    loss_log.append(loss.item())\n",
    "\n",
    "    # 3. Reset gradients\n",
    "    optimizer.zero_grad()\n",
    "\n",
    "    # 4. Compute the gradients\n",
    "    loss.backward()\n",
    "\n",
    "    # 5. Update the parameters\n",
    "    optimizer.step()"
   ]
  },
  {
   "cell_type": "code",
   "execution_count": null,
   "metadata": {},
   "outputs": [],
   "source": [
    "# Turn the random amplitude envelope into a learnable parameter\n",
    "amp_param = torch.nn.Parameter(rand_amp)\n",
    "\n",
    "y_hat = sinusoid(amp_param, omega)\n",
    "\n",
    "# Now that the tensor is a learnable parameter, it is marked as requiring a gradient.\n",
    "# We need to detach it from the computation graph before plotting and rendering audio.\n",
    "plt.plot(y[0].numpy(), label=\"Ground Truth\")\n",
    "plt.plot(y_hat[0].detach().numpy(), alpha=0.75, label=\"Random Init Amp\")\n",
    "plt.legend()\n",
    "\n",
    "ipd.Audio(y_hat[0].detach().numpy(), rate=sr, normalize=False)"
   ]
  },
  {
   "cell_type": "markdown",
   "metadata": {},
   "source": [
    "## Optimizing Frequency\n",
    "\n",
    "Great! We made a differentiable oscillator and we can use gradient descent to learn an\n",
    "amplitude envelope to match a target.\n",
    "\n",
    "Now how about optimizing a frequency envelope?\n",
    "\n",
    "Unfortunately, we have encountered one of the fundamental challenges in gradient-based\n",
    "optimization -- learning periodic functions. Due to the nature of sinusoids,\n",
    "the gradient of loss functions with respect to frequency parameters is also sinusoidal,\n",
    "which means that the error landscape is full of nasty local minima. This means we have\n",
    "a non-convex optimization problem. While research is investigating solutions to this\n",
    "problem, diving into this problem is beyond the scope of this part of tutorial.\n",
    "\n",
    "Despite this problem, lot's of interesting work has been conducted in DDSP that doesn't rely\n",
    "on directly learning frequencies of oscillators. In the next section we'll see how this\n",
    "simple sinusoidal oscillator will form the basis of a more complex synthesizer that can\n",
    "generate realistic instrumental sounds."
   ]
  }
 ],
 "metadata": {
  "kernelspec": {
   "display_name": "ismir",
   "language": "python",
   "name": "python3"
  },
  "language_info": {
   "codemirror_mode": {
    "name": "ipython",
    "version": 3
   },
   "file_extension": ".py",
   "mimetype": "text/x-python",
   "name": "python",
   "nbconvert_exporter": "python",
   "pygments_lexer": "ipython3",
   "version": "3.10.13"
  }
 },
 "nbformat": 4,
 "nbformat_minor": 2
}
