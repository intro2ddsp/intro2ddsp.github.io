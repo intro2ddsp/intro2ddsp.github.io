{
 "cells": [
  {
   "cell_type": "markdown",
   "metadata": {},
   "source": [
    "# Creating and Additive Synthesizer in PyTorch\n",
    "\n",
    "- Introduce additive synthesis from review\n",
    "\n",
    "$$\n",
    "    y[n] = \\sum_{k}^{K}\\alpha_k[n]\\sin\\left(\\phi_k + \\sum_{m=0}^{n}\\omega_k[m]\\right)\n",
    "$$\n",
    "\n",
    "Extend upon the simple sinusoidal case through a summation of sinusoids\n",
    "\n",
    "Introduce sinusoid modelling synthesis"
   ]
  },
  {
   "cell_type": "code",
   "execution_count": null,
   "metadata": {},
   "outputs": [],
   "source": [
    "import torch\n",
    "import IPython.display as ipd\n",
    "import matplotlib.pyplot as plt"
   ]
  },
  {
   "cell_type": "code",
   "execution_count": null,
   "metadata": {},
   "outputs": [],
   "source": [
    "def additive_synth(\n",
    "    frequencies: torch.Tensor,  # Angular frequencies (rad / sample)\n",
    "    amplitudes: torch.Tensor,  # Amplitudes\n",
    "):\n",
    "    assert (\n",
    "        frequencies.ndim == 3\n",
    "    ), \"Frequencies must be 3D (batch, n_frequencies, n_samples)\"\n",
    "    assert (\n",
    "        frequencies.shape == amplitudes.shape\n",
    "    ), \"Frequency and amplitude shapes must match\"\n",
    "\n",
    "    # Set initial phase to zero, prepend to frequency envelope\n",
    "    initial_phase = torch.zeros_like(frequencies[:, :, :1])\n",
    "    frequencies = torch.cat([initial_phase, frequencies], dim=-1)\n",
    "\n",
    "    # Create the phase track and remove the last sample (since we added initial phase)\n",
    "    phase = torch.cumsum(frequencies, dim=-1)[..., :-1]\n",
    "    y = torch.sin(phase) * amplitudes\n",
    "    y = torch.sum(y, dim=1)\n",
    "    return y"
   ]
  },
  {
   "cell_type": "code",
   "execution_count": null,
   "metadata": {},
   "outputs": [],
   "source": [
    "# Pick k random frequencies in the range 200-700 Hz\n",
    "k = 8\n",
    "frequencies = torch.rand(k) * 500 + 200\n",
    "print(frequencies)"
   ]
  },
  {
   "cell_type": "markdown",
   "metadata": {},
   "source": [
    "Create frequency and amplitude envelopes to pass into an additive synth.\n",
    "\n",
    "- Add in the amplitude normalization constraint"
   ]
  },
  {
   "cell_type": "code",
   "execution_count": null,
   "metadata": {},
   "outputs": [],
   "source": [
    "sample_rate = 16000\n",
    "\n",
    "# Create sample-wise frequency envelopes for each frequency that are static\n",
    "f = torch.ones(1, frequencies.shape[0], sample_rate) * frequencies.view(1, -1, 1)\n",
    "\n",
    "# Convert to rad / sample\n",
    "w = 2 * torch.pi * f / sample_rate\n",
    "\n",
    "# Amplitude envelopes so each frequency has the same amplitude\n",
    "a = torch.ones(1, frequencies.shape[0], sample_rate)"
   ]
  },
  {
   "cell_type": "code",
   "execution_count": null,
   "metadata": {},
   "outputs": [],
   "source": [
    "y = additive_synth(w, a)"
   ]
  },
  {
   "cell_type": "code",
   "execution_count": null,
   "metadata": {},
   "outputs": [],
   "source": [
    "ipd.Audio(y[0].numpy(), rate=sample_rate)"
   ]
  },
  {
   "cell_type": "markdown",
   "metadata": {},
   "source": [
    "## Constrained Additive Synthesis"
   ]
  },
  {
   "cell_type": "markdown",
   "metadata": {},
   "source": [
    "### Harmonic Synthesizer\n",
    "\n",
    "$$\n",
    "y[n] = \\sum_{k=1}^{K}\\hat{\\alpha}_k[n]\\sin\\left(k\\sum_{m=0}^{n}\\omega_{0}[m]\\right)\n",
    "$$"
   ]
  },
  {
   "cell_type": "code",
   "execution_count": null,
   "metadata": {},
   "outputs": [],
   "source": [
    "def harmonic_synth(\n",
    "    f0: torch.Tensor,  # Fundamental frequency (Hz) (batch, n_samples)\n",
    "    harmonic_amps: torch.Tensor,  # Amplitudes of harmonics (batch, n_harmonics, n_samples)\n",
    "    normalize: bool = True,\n",
    "):\n",
    "    assert f0.ndim == 2, \"Fundamental frequency must be 2D (batch, n_samples)\"\n",
    "    assert (\n",
    "        harmonic_amps.ndim == 3\n",
    "    ), \"Harmonic amplitudes must be 3D (batch, n_harmonics, n_samples)\"\n",
    "\n",
    "    num_harmonics = harmonic_amps.shape[1]\n",
    "\n",
    "    # Create integer harmonic ratios and reshape to (1, n_harmonics, 1) so we can\n",
    "    # multiply with fundamental frequency tensor repeated for num_harmonics\n",
    "    harmonic_ratios = torch.arange(1, num_harmonics + 1).view(1, -1, 1)\n",
    "\n",
    "    # Duplicate the fundamental frequency for each harmonic\n",
    "    frequency = f0.unsqueeze(1).repeat(1, num_harmonics, 1)\n",
    "\n",
    "    # Multiply the fundamental frequency by the harmonic ratios\n",
    "    frequency = frequency * harmonic_ratios\n",
    "\n",
    "    assert (\n",
    "        torch.max(frequency) < torch.pi\n",
    "    ), f\"Frequency must be less than pi, got {torch.max(frequency)}\"\n",
    "\n",
    "    # Normalize amplitudes to sum to 1 at each sample\n",
    "    if normalize:\n",
    "        harmonic_amps = torch.abs(harmonic_amps)\n",
    "        harmonic_amps = harmonic_amps / torch.sum(harmonic_amps, dim=1, keepdim=True)\n",
    "\n",
    "    return additive_synth(frequency, harmonic_amps)"
   ]
  },
  {
   "cell_type": "code",
   "execution_count": null,
   "metadata": {},
   "outputs": [],
   "source": [
    "def random_harmonic_amps(\n",
    "    batch_size: int,  # Number of samples to generate\n",
    "    num_harmonics: int,  # Number of harmonics to generate\n",
    "    num_samples: int,  # Number of samples in length\n",
    "):\n",
    "    # Create random amplitudes for each harmonic (but set the first harmonic to 1)\n",
    "    harmonic_amps = torch.rand(batch_size, num_harmonics)\n",
    "    harmonic_amps[:, 0] = 1\n",
    "\n",
    "    # Turn the harmonic amplitudes into a tensor of time-varying amplitudes\n",
    "    harmonic_amps = torch.ones(1, num_harmonics, num_samples) * harmonic_amps.view(\n",
    "        1, -1, 1\n",
    "    )\n",
    "\n",
    "    return harmonic_amps"
   ]
  },
  {
   "cell_type": "code",
   "execution_count": null,
   "metadata": {},
   "outputs": [],
   "source": [
    "f0 = 150  # Fundamental frequency (Hz)\n",
    "num_harmonics = 32  # Number of harmonics\n",
    "\n",
    "# Create a fundamental frequency tensor\n",
    "fundamental = torch.ones(1, sample_rate) * f0\n",
    "\n",
    "# Convert to angular frequency (rad / sample)\n",
    "fundamental = 2 * torch.pi * fundamental / sample_rate\n",
    "\n",
    "# Create random harmonic amplitudes\n",
    "harmonic_amps = random_harmonic_amps(1, num_harmonics, sample_rate)\n",
    "\n",
    "print(fundamental.shape, harmonic_amps.shape)"
   ]
  },
  {
   "cell_type": "code",
   "execution_count": null,
   "metadata": {},
   "outputs": [],
   "source": [
    "y = harmonic_synth(fundamental, harmonic_amps)"
   ]
  },
  {
   "cell_type": "code",
   "execution_count": null,
   "metadata": {},
   "outputs": [],
   "source": [
    "ipd.Audio(y[0].numpy(), rate=sample_rate)"
   ]
  },
  {
   "cell_type": "markdown",
   "metadata": {},
   "source": [
    "- Show a spectrum of a few different random harmonic sounds\n",
    "- Discuss how this can be considered timbre\n",
    "- show a spectrogram"
   ]
  },
  {
   "cell_type": "markdown",
   "metadata": {},
   "source": [
    "## Further Constraints\n",
    "\n",
    "Sawtooth wave\n",
    "\n",
    "$$\n",
    "y_{\\text{saw}}[n] = \\sum_{k=1}^{K}\\frac{2}{\\pi{k}}\\sin\\left(k\\sum_{m=0}^{n}\\omega_0[m]\\right)\n",
    "$$"
   ]
  },
  {
   "cell_type": "code",
   "execution_count": null,
   "metadata": {},
   "outputs": [],
   "source": [
    "def sawtooth(\n",
    "    num_harmonics: int,  # Number of harmonics to generate\n",
    "    num_samples: int,  # Number of samples in length\n",
    "):\n",
    "    harmonics = torch.arange(1, num_harmonics + 1)\n",
    "    harmonic_amps = 2.0 / (harmonics * torch.pi)\n",
    "\n",
    "    # Turn the harmonic amplitudes into a tensor of time-varying amplitudes\n",
    "    harmonic_amps = torch.ones(1, num_harmonics, num_samples) * harmonic_amps.view(\n",
    "        1, -1, 1\n",
    "    )\n",
    "\n",
    "    return harmonic_amps"
   ]
  },
  {
   "cell_type": "code",
   "execution_count": null,
   "metadata": {},
   "outputs": [],
   "source": [
    "saw_amplitudes = sawtooth(16, sample_rate)\n",
    "y = harmonic_synth(fundamental, saw_amplitudes, normalize=False)\n",
    "ipd.Audio(y[0].numpy(), rate=sample_rate)"
   ]
  },
  {
   "cell_type": "code",
   "execution_count": null,
   "metadata": {},
   "outputs": [],
   "source": [
    "from matplotlib.animation import FuncAnimation\n",
    "\n",
    "fig, ax = plt.subplots(figsize=(7, 5))\n",
    "(line,) = ax.plot([], [], lw=2)\n",
    "ax.set_ylim([-1.1, 1.1])\n",
    "ax.set_xlim(0, 250)\n",
    "ax.grid(True)\n",
    "\n",
    "\n",
    "def init():\n",
    "    line.set_data([], [])\n",
    "    return (line,)\n",
    "\n",
    "\n",
    "def animate(i):\n",
    "    n = i + 1\n",
    "    saw_amplitudes = sawtooth(n, sample_rate)\n",
    "    y = harmonic_synth(fundamental, saw_amplitudes, normalize=False)\n",
    "    line.set_data(torch.arange(250).numpy(), y[0].numpy()[:250])\n",
    "    ax.set_title(f\"Sawtooth Wave with N = {n} Harmonics\")\n",
    "    return (line,)\n",
    "\n",
    "\n",
    "# Create the animation\n",
    "anim = FuncAnimation(fig, animate, init_func=init, frames=24, interval=150, blit=True)\n",
    "plt.close(fig)\n",
    "# To display the animation in the Jupyter notebook:\n",
    "display(ipd.HTML(anim.to_html5_video()))"
   ]
  },
  {
   "cell_type": "markdown",
   "metadata": {},
   "source": [
    "Square wave\n",
    "\n",
    "$$\n",
    "y_{\\text{square}}[n] = \\sum_{k=1}^{K}\\frac{4}{\\pi(2k -1)}\\sin\\left(2\\pi(2k - 1)\\sum_{m=0}^{n}\\omega_0[m]\\right)\n",
    "$$"
   ]
  },
  {
   "cell_type": "code",
   "execution_count": null,
   "metadata": {},
   "outputs": [],
   "source": [
    "def square_wave(\n",
    "    num_harmonics: int,  # Number of harmonics to generate\n",
    "    num_samples: int,  # Number of samples in length\n",
    "):\n",
    "    harmonic_amps = torch.zeros(num_harmonics * 2)\n",
    "    for i in range(1, len(harmonic_amps) + 1):\n",
    "        if (i - 1) % 2 == 0:\n",
    "            harmonic_amps[i - 1] = 4.0 / (torch.pi * i)\n",
    "\n",
    "    # Turn the harmonic amplitudes into a tensor of time-varying amplitudes\n",
    "    harmonic_amps = torch.ones(1, num_harmonics * 2, num_samples) * harmonic_amps.view(\n",
    "        1, -1, 1\n",
    "    )\n",
    "\n",
    "    return harmonic_amps"
   ]
  },
  {
   "cell_type": "code",
   "execution_count": null,
   "metadata": {},
   "outputs": [],
   "source": [
    "square_amplitudes = square_wave(16, sample_rate)\n",
    "y = harmonic_synth(fundamental, square_amplitudes, normalize=False)\n",
    "ipd.Audio(y[0].numpy(), rate=sample_rate)"
   ]
  },
  {
   "cell_type": "code",
   "execution_count": null,
   "metadata": {},
   "outputs": [],
   "source": [
    "from matplotlib.animation import FuncAnimation\n",
    "\n",
    "fig, ax = plt.subplots(figsize=(7, 5))\n",
    "(line,) = ax.plot([], [], lw=2)\n",
    "\n",
    "max_amp = square_amplitudes.abs().max()\n",
    "ax.set_ylim([-max_amp, max_amp])\n",
    "ax.set_xlim(0, 250)\n",
    "ax.grid(True)\n",
    "\n",
    "\n",
    "def init():\n",
    "    line.set_data([], [])\n",
    "    return (line,)\n",
    "\n",
    "\n",
    "def animate(i):\n",
    "    n = i + 1\n",
    "    square_amplitudes = square_wave(n, sample_rate)\n",
    "    y = harmonic_synth(fundamental, square_amplitudes, normalize=False)\n",
    "    line.set_data(torch.arange(250).numpy(), y[0].numpy()[:250])\n",
    "    ax.set_title(f\"Square Wave with N = {n} Harmonics\")\n",
    "    return (line,)\n",
    "\n",
    "\n",
    "# Create the animation\n",
    "anim = FuncAnimation(fig, animate, init_func=init, frames=24, interval=200, blit=True)\n",
    "plt.close(fig)\n",
    "# To display the animation in the Jupyter notebook:\n",
    "display(ipd.HTML(anim.to_html5_video()))"
   ]
  },
  {
   "cell_type": "code",
   "execution_count": null,
   "metadata": {},
   "outputs": [],
   "source": []
  }
 ],
 "metadata": {
  "kernelspec": {
   "display_name": "ismir",
   "language": "python",
   "name": "python3"
  },
  "language_info": {
   "codemirror_mode": {
    "name": "ipython",
    "version": 3
   },
   "file_extension": ".py",
   "mimetype": "text/x-python",
   "name": "python",
   "nbconvert_exporter": "python",
   "pygments_lexer": "ipython3",
   "version": "3.10.13"
  }
 },
 "nbformat": 4,
 "nbformat_minor": 2
}
