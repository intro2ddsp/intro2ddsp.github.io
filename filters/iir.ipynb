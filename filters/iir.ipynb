{
 "cells": [
  {
   "cell_type": "markdown",
   "metadata": {},
   "source": [
    "# Infinite Impulse Response (IIR) Systems"
   ]
  },
  {
   "cell_type": "markdown",
   "metadata": {},
   "source": [
    "A system with infinite impulse response (IIR) is called an IIR system. It is described by the following difference equation:\n",
    "\n",
    "$$\n",
    "\\begin{split}\n",
    "y[n] \n",
    "&= x[n] - a_1 y[n-1] - a_2 y[n-2] - \\cdots - a_M y[n-M] \\\\\n",
    "&= x[n] - \\sum_{k=1}^{M} a_k y[n-k]\n",
    "\\end{split}\n",
    "$$\n",
    "\n",
    "where $a_1, \\dots, a_M$ are the system coefficients.\n",
    "Each output sample $y[n]$ is a weighted sum of the past output samples $y[n-1], \\dots, y[n-M]$ and the current input sample $x[n]$.\n",
    "It is also called recursive system because the output samples are recursively computed from past output samples.\n",
    "\n",
    "If we convert the equation to only have input samples on the right-hand side, we obtain\n",
    "\n",
    "$$\n",
    "\\begin{align}\n",
    "y[n] &= x[n] + \\sum_{k=1}^{\\infty} h_k x[n-k],\\\\\n",
    "h_k &= \\sum_{i=1}^k \\sum_{q \\in Q_k^i} \\prod_{j=1}^i -a_{q_j}, \\\\\n",
    "Q_k^i &= \\{q \\in \\mathbb{Z}_{>0}^i \\mid \\sum_{j=1}^i q_j = k\\}.\n",
    "\\end{align}\n",
    "$$\n",
    "\n",
    "The last two equations are ugly but thankfully we will not need them in this notebook.\n",
    "They are only included for completeness.\n",
    "You can see that the output samples $y[n]$ are a weighted sum of the current and past input samples $x[n], x[n-1], \\dots$, just like in the FIR case.\n",
    "However, the length of the impulse response is infinite, hence the name IIR.\n",
    "\n",
    "IIRs are very useful because use can approximate long FIRs with much less number of coefficients in an IIR.\n",
    "This also implies that they are cheaper to compute."
   ]
  },
  {
   "cell_type": "markdown",
   "metadata": {},
   "source": []
  },
  {
   "cell_type": "code",
   "execution_count": null,
   "metadata": {},
   "outputs": [],
   "source": []
  },
  {
   "cell_type": "markdown",
   "metadata": {},
   "source": [
    "## References"
   ]
  }
 ],
 "metadata": {
  "kernelspec": {
   "display_name": "dl",
   "language": "python",
   "name": "python3"
  },
  "language_info": {
   "name": "python",
   "version": "3.9.13"
  }
 },
 "nbformat": 4,
 "nbformat_minor": 2
}
